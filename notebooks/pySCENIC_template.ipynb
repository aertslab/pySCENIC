{
 "cells": [
  {
   "cell_type": "markdown",
   "metadata": {},
   "source": [
    "# SCENIC - Template script\n",
    "\n",
    "*Last updated*: 22 jan 2019\n",
    "\n",
    "For a detailed tutorial with explanations see: https://pyscenic.readthedocs.io\n",
    "\n",
    "The notebook `pySCENIC_template_DataPreparation_geneFilter.ipynb` provides a guide on how to prepare and filter the input data."
   ]
  },
  {
   "cell_type": "code",
   "execution_count": 19,
   "metadata": {},
   "outputs": [
    {
     "data": {
      "text/plain": [
       "'/ddn1/vol1/staging/leuven/stg_00002/lcb/saibar/Projects/runs_SCENIC/2019-01_pySCENIC_tutorial_wZeisel'"
      ]
     },
     "execution_count": 19,
     "metadata": {},
     "output_type": "execute_result"
    },
    {
     "name": "stdout",
     "output_type": "stream",
     "text": [
      "2019 Jan 25 (15:10)\n"
     ]
    }
   ],
   "source": [
    "import os\n",
    "import datetime\n",
    "os.getcwd()\n",
    "print(datetime.datetime.now().strftime(\"%Y %b %d (%H:%M)\"))"
   ]
  },
  {
   "cell_type": "markdown",
   "metadata": {},
   "source": [
    "Input files:"
   ]
  },
  {
   "cell_type": "code",
   "execution_count": 20,
   "metadata": {},
   "outputs": [],
   "source": [
    "input_exprMat_path = os.path.join(os.getcwd(), 'filteredExpressionMatrix.loom')\n",
    "\n",
    "### Databases (Select/adjust the organism & paths):\n",
    "ORGANISM = 'mouse' # 'human' / 'mouse'/ 'drosophila'\n",
    "DATABASE_FOLDER = '~/motif_databases/'\n",
    "ANNOTATIONS_FOLDER = \"~/motif_annotations/\" \n",
    "\n",
    "if(ORGANISM == 'human'):\n",
    "    MOTIF_ANNOTATIONS_FNAME = os.path.join(ANNOTATIONS_FOLDER, \"motifs-v9-nr.hgnc-m0.001-o0.0.tbl\")\n",
    "    DATABASES_GLOB = os.path.join(DATABASE_FOLDER, \"hg19-*.mc9nr.feather\")\n",
    "    #TFS_PATH = 'tfs_human.txt' # optional\n",
    "if(ORGANISM == 'mouse'):\n",
    "    MOTIF_ANNOTATIONS_FNAME = os.path.join(ANNOTATIONS_FOLDER, \"motifs-v9-nr.mgi-m0.001-o0.0.tbl\")\n",
    "    DATABASES_GLOB = os.path.join(DATABASE_FOLDER, \"mm9-*.mc9nr.feather\")\n",
    "    #TFS_PATH = 'tfs_mouse.txt' # optional\n",
    "if(ORGANISM == 'drosophila'):\n",
    "    MOTIF_ANNOTATIONS_FNAME = os.path.join(ANNOTATIONS_FOLDER, \"motifs-v8-nr.flybase-m0.001-o0.0.tbl\")\n",
    "    DATABASES_GLOB = os.path.join(DATABASE_FOLDER, \"dm6-5kb-upstream-full-tx-11species.mc8nr.feather\")\n",
    "    #TFS_PATH = 'tfs_drosophila.txt' # optional"
   ]
  },
  {
   "cell_type": "code",
   "execution_count": 23,
   "metadata": {},
   "outputs": [],
   "source": [
    "# Optional (description of the dataset for the loom file):\n",
    "loom_title='Mouse brain (Zeisel et al. 3005 cells) - SCENIC', \n",
    "loom_tree_structure=(ORGANISM, 'Mouse Brain - SCENIC', '')"
   ]
  },
  {
   "cell_type": "markdown",
   "metadata": {},
   "source": [
    "Output files (no need to modify):"
   ]
  },
  {
   "cell_type": "code",
   "execution_count": 22,
   "metadata": {},
   "outputs": [],
   "source": [
    "OUT_FOLDER = \"output\"\n",
    "os.makedirs(OUT_FOLDER, exist_ok=True)\n",
    "LOOM_FNAME = os.path.join(OUT_FOLDER, \"SCENIC.loom\")\n",
    "ADJACENCIES_FNAME = os.path.join(OUT_FOLDER, \"adjacencies.tsv\")\n",
    "MODULES_FNAME = os.path.join(OUT_FOLDER, \"modules.p\")\n",
    "MOTIFS_FNAME = os.path.join(OUT_FOLDER, \"motifs.tsv\")\n",
    "REGULONS_FNAME = os.path.join(OUT_FOLDER, \"regulons.p\")\n",
    "AUCMAT_FNAME = os.path.join(OUT_FOLDER, \"aucMatrix.tsv\")\n",
    "UMAP_FNAME = os.path.join(OUT_FOLDER, \"umap.tsv\")\n",
    "TSNE_FNAME = os.path.join(OUT_FOLDER, \"tsne.tsv\")"
   ]
  },
  {
   "cell_type": "markdown",
   "metadata": {},
   "source": [
    "Setup cluster (optional):\n",
    "> [Tutorials](https://arboreto.readthedocs.io/en/latest/examples.html#jupyter-notebooks) for runing Arboreto with Dask"
   ]
  },
  {
   "cell_type": "code",
   "execution_count": null,
   "metadata": {},
   "outputs": [],
   "source": [
    "from distributed import LocalCluster, Client\n",
    "customClient = Client('tcp://10.118.224.141:8786')\n",
    "customClient"
   ]
  },
  {
   "cell_type": "markdown",
   "metadata": {},
   "source": [
    "# Load data and databases"
   ]
  },
  {
   "cell_type": "markdown",
   "metadata": {},
   "source": [
    "### Modules"
   ]
  },
  {
   "cell_type": "code",
   "execution_count": 25,
   "metadata": {},
   "outputs": [],
   "source": [
    "import pandas as pd\n",
    "import numpy as np\n",
    "import os, glob\n",
    "import pickle\n",
    "import loompy\n",
    "\n",
    "from arboreto.utils import load_tf_names\n",
    "from arboreto.algo import grnboost2\n",
    "\n",
    "from pyscenic.rnkdb import FeatherRankingDatabase as RankingDatabase\n",
    "from pyscenic.utils import modules_from_adjacencies, add_motif_url\n",
    "from pyscenic.prune import prune2df, df2regulons\n",
    "from pyscenic.aucell import aucell\n",
    "from pyscenic.export import export_motifs2txt, export_asGmt, export2loom"
   ]
  },
  {
   "cell_type": "code",
   "execution_count": 5,
   "metadata": {},
   "outputs": [
    {
     "name": "stdout",
     "output_type": "stream",
     "text": [
      "Version: 0.1.5\n"
     ]
    }
   ],
   "source": [
    "!pip show arboreto | grep 'Version'"
   ]
  },
  {
   "cell_type": "code",
   "execution_count": 6,
   "metadata": {},
   "outputs": [
    {
     "name": "stdout",
     "output_type": "stream",
     "text": [
      "Version: 0.9.3+0.gca23423.dirty\n"
     ]
    }
   ],
   "source": [
    "!pip show pyscenic | grep 'Version'"
   ]
  },
  {
   "cell_type": "code",
   "execution_count": 7,
   "metadata": {},
   "outputs": [
    {
     "name": "stdout",
     "output_type": "stream",
     "text": [
      "Version: 2.0.2\n"
     ]
    }
   ],
   "source": [
    "!pip show loompy | grep 'Version'"
   ]
  },
  {
   "cell_type": "markdown",
   "metadata": {},
   "source": [
    "### Expression matrix"
   ]
  },
  {
   "cell_type": "markdown",
   "metadata": {},
   "source": [
    "Already filtered & transposed (rows: cells, columms: genes)"
   ]
  },
  {
   "cell_type": "code",
   "execution_count": 8,
   "metadata": {},
   "outputs": [
    {
     "data": {
      "text/plain": [
       "(3005, 13800)"
      ]
     },
     "execution_count": 8,
     "metadata": {},
     "output_type": "execute_result"
    },
    {
     "data": {
      "text/html": [
       "<div>\n",
       "<style scoped>\n",
       "    .dataframe tbody tr th:only-of-type {\n",
       "        vertical-align: middle;\n",
       "    }\n",
       "\n",
       "    .dataframe tbody tr th {\n",
       "        vertical-align: top;\n",
       "    }\n",
       "\n",
       "    .dataframe thead th {\n",
       "        text-align: right;\n",
       "    }\n",
       "</style>\n",
       "<table border=\"1\" class=\"dataframe\">\n",
       "  <thead>\n",
       "    <tr style=\"text-align: right;\">\n",
       "      <th></th>\n",
       "      <th>0610007P14Rik</th>\n",
       "      <th>0610009B22Rik</th>\n",
       "      <th>0610009D07Rik</th>\n",
       "      <th>0610009O20Rik</th>\n",
       "      <th>0610010F05Rik</th>\n",
       "    </tr>\n",
       "  </thead>\n",
       "  <tbody>\n",
       "    <tr>\n",
       "      <th>1772071015_C02</th>\n",
       "      <td>3</td>\n",
       "      <td>0</td>\n",
       "      <td>1</td>\n",
       "      <td>0</td>\n",
       "      <td>0</td>\n",
       "    </tr>\n",
       "    <tr>\n",
       "      <th>1772071017_G12</th>\n",
       "      <td>0</td>\n",
       "      <td>1</td>\n",
       "      <td>4</td>\n",
       "      <td>0</td>\n",
       "      <td>5</td>\n",
       "    </tr>\n",
       "    <tr>\n",
       "      <th>1772071017_A05</th>\n",
       "      <td>1</td>\n",
       "      <td>3</td>\n",
       "      <td>2</td>\n",
       "      <td>1</td>\n",
       "      <td>4</td>\n",
       "    </tr>\n",
       "    <tr>\n",
       "      <th>1772071014_B06</th>\n",
       "      <td>0</td>\n",
       "      <td>3</td>\n",
       "      <td>1</td>\n",
       "      <td>0</td>\n",
       "      <td>5</td>\n",
       "    </tr>\n",
       "    <tr>\n",
       "      <th>1772067065_H06</th>\n",
       "      <td>1</td>\n",
       "      <td>0</td>\n",
       "      <td>2</td>\n",
       "      <td>0</td>\n",
       "      <td>5</td>\n",
       "    </tr>\n",
       "    <tr>\n",
       "      <th>1772071017_E02</th>\n",
       "      <td>0</td>\n",
       "      <td>0</td>\n",
       "      <td>1</td>\n",
       "      <td>0</td>\n",
       "      <td>2</td>\n",
       "    </tr>\n",
       "    <tr>\n",
       "      <th>1772067065_B07</th>\n",
       "      <td>4</td>\n",
       "      <td>0</td>\n",
       "      <td>6</td>\n",
       "      <td>1</td>\n",
       "      <td>2</td>\n",
       "    </tr>\n",
       "    <tr>\n",
       "      <th>1772067060_B09</th>\n",
       "      <td>3</td>\n",
       "      <td>0</td>\n",
       "      <td>2</td>\n",
       "      <td>0</td>\n",
       "      <td>4</td>\n",
       "    </tr>\n",
       "    <tr>\n",
       "      <th>1772071014_E04</th>\n",
       "      <td>0</td>\n",
       "      <td>2</td>\n",
       "      <td>0</td>\n",
       "      <td>0</td>\n",
       "      <td>3</td>\n",
       "    </tr>\n",
       "    <tr>\n",
       "      <th>1772071015_D04</th>\n",
       "      <td>3</td>\n",
       "      <td>1</td>\n",
       "      <td>2</td>\n",
       "      <td>0</td>\n",
       "      <td>2</td>\n",
       "    </tr>\n",
       "  </tbody>\n",
       "</table>\n",
       "</div>"
      ],
      "text/plain": [
       "                0610007P14Rik  0610009B22Rik  0610009D07Rik  0610009O20Rik  \\\n",
       "1772071015_C02              3              0              1              0   \n",
       "1772071017_G12              0              1              4              0   \n",
       "1772071017_A05              1              3              2              1   \n",
       "1772071014_B06              0              3              1              0   \n",
       "1772067065_H06              1              0              2              0   \n",
       "1772071017_E02              0              0              1              0   \n",
       "1772067065_B07              4              0              6              1   \n",
       "1772067060_B09              3              0              2              0   \n",
       "1772071014_E04              0              2              0              0   \n",
       "1772071015_D04              3              1              2              0   \n",
       "\n",
       "                0610010F05Rik  \n",
       "1772071015_C02              0  \n",
       "1772071017_G12              5  \n",
       "1772071017_A05              4  \n",
       "1772071014_B06              5  \n",
       "1772067065_H06              5  \n",
       "1772071017_E02              2  \n",
       "1772067065_B07              2  \n",
       "1772067060_B09              4  \n",
       "1772071014_E04              3  \n",
       "1772071015_D04              2  "
      ]
     },
     "execution_count": 8,
     "metadata": {},
     "output_type": "execute_result"
    }
   ],
   "source": [
    "with loompy.connect(input_exprMat_path) as ds:\n",
    "    ex_matrix=pd.DataFrame(ds[:,:], index=list(ds.ra['Gene']))\n",
    "    ex_matrix.columns=list(ds.ca['CellID'])\n",
    "    ex_matrix=ex_matrix.T\n",
    "ex_matrix.shape\n",
    "ex_matrix.iloc[:10,:5]"
   ]
  },
  {
   "cell_type": "markdown",
   "metadata": {},
   "source": [
    "### Ranking databases"
   ]
  },
  {
   "cell_type": "code",
   "execution_count": 60,
   "metadata": {},
   "outputs": [
    {
     "data": {
      "text/plain": [
       "[FeatherRankingDatabase(name=\"hg19-500bp-upstream-7species\"),\n",
       " FeatherRankingDatabase(name=\"hg19-tss-centered-10kb-10species\"),\n",
       " FeatherRankingDatabase(name=\"hg19-tss-centered-5kb-7species\"),\n",
       " FeatherRankingDatabase(name=\"hg19-tss-centered-5kb-10species\"),\n",
       " FeatherRankingDatabase(name=\"hg19-tss-centered-10kb-7species\"),\n",
       " FeatherRankingDatabase(name=\"hg19-500bp-upstream-10species\")]"
      ]
     },
     "execution_count": 60,
     "metadata": {},
     "output_type": "execute_result"
    }
   ],
   "source": [
    "db_fnames=glob.glob(os.path.expanduser(DATABASES_GLOB))\n",
    "db_fnames = [db for db in db_fnames if \"regions\" not in db]\n",
    "def name(fname):\n",
    "    return os.path.basename(fname).split(\".\")[0]\n",
    "dbs = [RankingDatabase(fname=fname, name=name(fname)) for fname in db_fnames]\n",
    "dbs"
   ]
  },
  {
   "cell_type": "markdown",
   "metadata": {},
   "source": [
    "### List of Transcription Factors (TF)"
   ]
  },
  {
   "cell_type": "markdown",
   "metadata": {},
   "source": [
    "> The list of potential regulators (e.g. all the transcription factors in the given organism) can be \n",
    "from a curated database (e.g. TFCat: [pySCENIC - Preliminary - Known TFs for Mus musculus as MGI symbols.ipynb](https://github.com/aertslab/pySCENIC/blob/master/notebooks/pySCENIC%20-%20Preliminary%20-%20Known%20TFs%20for%20Mus%20musculus%20as%20MGI%20symbols.ipynb), loaded with ` tf_names = load_tf_names(TFS_PATH) `), \n",
    "or all the genes/transcription factors in the annotation database (default in the R implementation of SCENIC):"
   ]
  },
  {
   "cell_type": "code",
   "execution_count": 10,
   "metadata": {},
   "outputs": [
    {
     "name": "stderr",
     "output_type": "stream",
     "text": [
      "/user/leuven/312/vsc31245/.conda/envs/pyscenic/lib/python3.6/site-packages/IPython/core/interactiveshell.py:3018: DtypeWarning: Columns (4) have mixed types. Specify dtype option on import or set low_memory=False.\n",
      "  interactivity=interactivity, compiler=compiler, result=result)\n"
     ]
    }
   ],
   "source": [
    "tf_names = list(set(pd.read_csv(MOTIF_ANNOTATIONS_FNAME, sep='\\t', index_col=0)['gene_name']))\n",
    "tf_names.sort()"
   ]
  },
  {
   "cell_type": "code",
   "execution_count": 11,
   "metadata": {},
   "outputs": [
    {
     "data": {
      "text/plain": [
       "1721"
      ]
     },
     "execution_count": 11,
     "metadata": {},
     "output_type": "execute_result"
    },
    {
     "data": {
      "text/plain": [
       "['Arg1',\n",
       " 'Arg2',\n",
       " 'Arid3a',\n",
       " 'Arid3b',\n",
       " 'Arid3c',\n",
       " 'Arid5a',\n",
       " 'Arid5b',\n",
       " 'Arnt',\n",
       " 'Arnt2',\n",
       " 'Arntl']"
      ]
     },
     "execution_count": 11,
     "metadata": {},
     "output_type": "execute_result"
    }
   ],
   "source": [
    "len(tf_names)\n",
    "tf_names[50:60]"
   ]
  },
  {
   "cell_type": "code",
   "execution_count": 12,
   "metadata": {},
   "outputs": [
    {
     "data": {
      "text/plain": [
       "1157"
      ]
     },
     "execution_count": 12,
     "metadata": {},
     "output_type": "execute_result"
    }
   ],
   "source": [
    "# How many present in the filtered expression matrix?\n",
    "tf_names = list(set(tf_names).intersection(set(ex_matrix.columns.values)))\n",
    "tf_names.sort()\n",
    "len(tf_names)"
   ]
  },
  {
   "cell_type": "markdown",
   "metadata": {},
   "source": [
    "# Phase I: Inference of co-expression modules"
   ]
  },
  {
   "cell_type": "markdown",
   "metadata": {},
   "source": [
    "### Run GRNboost/GENIE3\n",
    "\n",
    "> The [arboreto](https://arboreto.readthedocs.io) package is used for this phase of the pipeline.\n",
    "> More details: [https://pyscenic.readthedocs.io](https://pyscenic.readthedocs.io/en/latest/#run-genie3-or-grnboost-from-arboreto-to-infer-co-expression-modules) and [notebooks/pySCENIC - Percentiles as threshold for modules.ipynb](https://github.com/aertslab/pySCENIC/blob/master/notebooks/pySCENIC%20-%20Percentiles%20as%20threshold%20for%20modules.ipynb)."
   ]
  },
  {
   "cell_type": "markdown",
   "metadata": {},
   "source": [
    "Running status: http://localhost:8787/status"
   ]
  },
  {
   "cell_type": "code",
   "execution_count": null,
   "metadata": {},
   "outputs": [],
   "source": [
    "#%%time\n",
    "adjacencies = grnboost2(expression_data=ex_matrix, tf_names=tf_names, seed=123, client_or_address=customClient)"
   ]
  },
  {
   "cell_type": "code",
   "execution_count": null,
   "metadata": {},
   "outputs": [],
   "source": [
    "adjacencies.shape\n",
    "adjacencies.head()"
   ]
  },
  {
   "cell_type": "code",
   "execution_count": null,
   "metadata": {},
   "outputs": [],
   "source": [
    "# Save\n",
    "adjacencies.to_csv(ADJACENCIES_FNAME, index=False, sep='\\t')"
   ]
  },
  {
   "cell_type": "code",
   "execution_count": null,
   "metadata": {},
   "outputs": [],
   "source": [
    "## Reload:\n",
    "# adjacencies = pd.read_csv(ADJACENCIES_FNAME, sep='\\t')"
   ]
  },
  {
   "cell_type": "markdown",
   "metadata": {},
   "source": [
    "### Co-expression modules"
   ]
  },
  {
   "cell_type": "code",
   "execution_count": null,
   "metadata": {},
   "outputs": [],
   "source": [
    "modules = list(modules_from_adjacencies(adjacencies, ex_matrix))"
   ]
  },
  {
   "cell_type": "code",
   "execution_count": null,
   "metadata": {},
   "outputs": [],
   "source": [
    "# Save\n",
    "with open(MODULES_FNAME, 'wb') as f:\n",
    "    pickle.dump(modules, f)"
   ]
  },
  {
   "cell_type": "code",
   "execution_count": null,
   "metadata": {},
   "outputs": [],
   "source": [
    "# # Load:\n",
    "# with open(MODULES_FNAME, 'rb') as f:\n",
    "#    modules = pickle.load(f)"
   ]
  },
  {
   "cell_type": "markdown",
   "metadata": {},
   "source": [
    "# Phase II: Prune modules for targets with cis regulatory footprints (aka RcisTarget)\n",
    "> Caution: The nodes of the clusters need to have access to a shared network drive on which the ranking databases are stored."
   ]
  },
  {
   "cell_type": "code",
   "execution_count": null,
   "metadata": {},
   "outputs": [],
   "source": [
    "%%time\n",
    "motifEnr = prune2df(dbs, modules, MOTIF_ANNOTATIONS_FNAME, client_or_address=customClient)\n",
    "motifEnr = add_motif_url(motifEnr, base_url=\"http://motifcollections.aertslab.org/v9/logos/\")\n",
    "# Save\n",
    "with open(os.path.splitext(MOTIFS_FNAME)[0]+'.p', 'wb') as f:\n",
    "    pickle.dump(motifEnr, f)\n",
    "# Export to text (compatible to import from R-SCENIC)\n",
    "export_motifs2txt(motifEnr, MOTIFS_FNAME)"
   ]
  },
  {
   "cell_type": "code",
   "execution_count": 26,
   "metadata": {},
   "outputs": [],
   "source": [
    "# # Load:\n",
    "# with open(os.path.splitext(MOTIFS_FNAME)[0]+'.p', 'rb') as f:\n",
    "#    motifEnr = pickle.load(f)"
   ]
  },
  {
   "cell_type": "code",
   "execution_count": 27,
   "metadata": {},
   "outputs": [
    {
     "data": {
      "text/html": [
       "<div>\n",
       "<style scoped>\n",
       "    .dataframe tbody tr th:only-of-type {\n",
       "        vertical-align: middle;\n",
       "    }\n",
       "\n",
       "    .dataframe tbody tr th {\n",
       "        vertical-align: top;\n",
       "    }\n",
       "\n",
       "    .dataframe thead tr th {\n",
       "        text-align: left;\n",
       "    }\n",
       "\n",
       "    .dataframe thead tr:last-of-type th {\n",
       "        text-align: right;\n",
       "    }\n",
       "</style>\n",
       "<table border=\"1\" class=\"dataframe\">\n",
       "  <thead>\n",
       "    <tr>\n",
       "      <th></th>\n",
       "      <th></th>\n",
       "      <th colspan=\"9\" halign=\"left\">Enrichment</th>\n",
       "    </tr>\n",
       "    <tr>\n",
       "      <th></th>\n",
       "      <th></th>\n",
       "      <th>NES</th>\n",
       "      <th>AUC</th>\n",
       "      <th>MotifSimilarityQvalue</th>\n",
       "      <th>OrthologousIdentity</th>\n",
       "      <th>Annotation</th>\n",
       "      <th>Context</th>\n",
       "      <th>TargetGenes</th>\n",
       "      <th>RankAtMax</th>\n",
       "      <th>MotifURL</th>\n",
       "    </tr>\n",
       "    <tr>\n",
       "      <th>TF</th>\n",
       "      <th>MotifID</th>\n",
       "      <th></th>\n",
       "      <th></th>\n",
       "      <th></th>\n",
       "      <th></th>\n",
       "      <th></th>\n",
       "      <th></th>\n",
       "      <th></th>\n",
       "      <th></th>\n",
       "      <th></th>\n",
       "    </tr>\n",
       "  </thead>\n",
       "  <tbody>\n",
       "    <tr>\n",
       "      <th rowspan=\"2\" valign=\"top\">Arnt</th>\n",
       "      <th>dbcorrdb__MYC__ENCSR000FAZ_1__m1</th>\n",
       "      <td>3.207808</td>\n",
       "      <td>0.054660</td>\n",
       "      <td>0.000190</td>\n",
       "      <td>1.000000</td>\n",
       "      <td>motif similar to swissregulon__mm__ARNT_ARNT2_...</td>\n",
       "      <td>(activating, weight&gt;75.0%, mm9-500bp-upstream-...</td>\n",
       "      <td>[(Cdk4, 0.4051181677104111), (Rpusd4, 0.663259...</td>\n",
       "      <td>495</td>\n",
       "      <td>http://motifcollections.aertslab.org/v9/logos/...</td>\n",
       "    </tr>\n",
       "    <tr>\n",
       "      <th>dbcorrdb__MYC__ENCSR000EZV_1__m1</th>\n",
       "      <td>3.361121</td>\n",
       "      <td>0.055878</td>\n",
       "      <td>0.000484</td>\n",
       "      <td>1.000000</td>\n",
       "      <td>motif similar to swissregulon__mm__ARNT_ARNT2_...</td>\n",
       "      <td>(activating, weight&gt;75.0%, mm9-500bp-upstream-...</td>\n",
       "      <td>[(Cdk4, 0.4051181677104111), (Rpusd4, 0.663259...</td>\n",
       "      <td>564</td>\n",
       "      <td>http://motifcollections.aertslab.org/v9/logos/...</td>\n",
       "    </tr>\n",
       "    <tr>\n",
       "      <th rowspan=\"2\" valign=\"top\">Atf1</th>\n",
       "      <th>dbcorrdb__MAX__ENCSR000EUP_1__m1</th>\n",
       "      <td>3.218344</td>\n",
       "      <td>0.051133</td>\n",
       "      <td>0.000439</td>\n",
       "      <td>0.918216</td>\n",
       "      <td>gene is orthologous to ENSG00000123268 in H. s...</td>\n",
       "      <td>(activating, weight&gt;75.0%, mm9-500bp-upstream-...</td>\n",
       "      <td>[(Gla, 1.736301606130804), (Satb1, 0.453142896...</td>\n",
       "      <td>805</td>\n",
       "      <td>http://motifcollections.aertslab.org/v9/logos/...</td>\n",
       "    </tr>\n",
       "    <tr>\n",
       "      <th>dbcorrdb__BHLHE40__ENCSR000EGV_1__m1</th>\n",
       "      <td>3.046971</td>\n",
       "      <td>0.049906</td>\n",
       "      <td>0.000241</td>\n",
       "      <td>0.918216</td>\n",
       "      <td>gene is orthologous to ENSG00000123268 in H. s...</td>\n",
       "      <td>(activating, weight&gt;75.0%, mm9-500bp-upstream-...</td>\n",
       "      <td>[(Gla, 1.736301606130804), (Trappc8, 0.4531428...</td>\n",
       "      <td>604</td>\n",
       "      <td>http://motifcollections.aertslab.org/v9/logos/...</td>\n",
       "    </tr>\n",
       "    <tr>\n",
       "      <th>Atf2</th>\n",
       "      <th>transfac_pro__M01186</th>\n",
       "      <td>3.320660</td>\n",
       "      <td>0.052453</td>\n",
       "      <td>0.000428</td>\n",
       "      <td>1.000000</td>\n",
       "      <td>motif similar to cisbp__M0300 ('Atf2[gene ID: ...</td>\n",
       "      <td>(activating, weight&gt;75.0%, mm9-500bp-upstream-...</td>\n",
       "      <td>[(Ube2h, 1.5184979811830612), (Braf, 0.7705447...</td>\n",
       "      <td>1402</td>\n",
       "      <td>http://motifcollections.aertslab.org/v9/logos/...</td>\n",
       "    </tr>\n",
       "  </tbody>\n",
       "</table>\n",
       "</div>"
      ],
      "text/plain": [
       "                                          Enrichment            \\\n",
       "                                                 NES       AUC   \n",
       "TF   MotifID                                                     \n",
       "Arnt dbcorrdb__MYC__ENCSR000FAZ_1__m1       3.207808  0.054660   \n",
       "     dbcorrdb__MYC__ENCSR000EZV_1__m1       3.361121  0.055878   \n",
       "Atf1 dbcorrdb__MAX__ENCSR000EUP_1__m1       3.218344  0.051133   \n",
       "     dbcorrdb__BHLHE40__ENCSR000EGV_1__m1   3.046971  0.049906   \n",
       "Atf2 transfac_pro__M01186                   3.320660  0.052453   \n",
       "\n",
       "                                                                 \\\n",
       "                                          MotifSimilarityQvalue   \n",
       "TF   MotifID                                                      \n",
       "Arnt dbcorrdb__MYC__ENCSR000FAZ_1__m1                  0.000190   \n",
       "     dbcorrdb__MYC__ENCSR000EZV_1__m1                  0.000484   \n",
       "Atf1 dbcorrdb__MAX__ENCSR000EUP_1__m1                  0.000439   \n",
       "     dbcorrdb__BHLHE40__ENCSR000EGV_1__m1              0.000241   \n",
       "Atf2 transfac_pro__M01186                              0.000428   \n",
       "\n",
       "                                                               \\\n",
       "                                          OrthologousIdentity   \n",
       "TF   MotifID                                                    \n",
       "Arnt dbcorrdb__MYC__ENCSR000FAZ_1__m1                1.000000   \n",
       "     dbcorrdb__MYC__ENCSR000EZV_1__m1                1.000000   \n",
       "Atf1 dbcorrdb__MAX__ENCSR000EUP_1__m1                0.918216   \n",
       "     dbcorrdb__BHLHE40__ENCSR000EGV_1__m1            0.918216   \n",
       "Atf2 transfac_pro__M01186                            1.000000   \n",
       "\n",
       "                                                                                              \\\n",
       "                                                                                  Annotation   \n",
       "TF   MotifID                                                                                   \n",
       "Arnt dbcorrdb__MYC__ENCSR000FAZ_1__m1      motif similar to swissregulon__mm__ARNT_ARNT2_...   \n",
       "     dbcorrdb__MYC__ENCSR000EZV_1__m1      motif similar to swissregulon__mm__ARNT_ARNT2_...   \n",
       "Atf1 dbcorrdb__MAX__ENCSR000EUP_1__m1      gene is orthologous to ENSG00000123268 in H. s...   \n",
       "     dbcorrdb__BHLHE40__ENCSR000EGV_1__m1  gene is orthologous to ENSG00000123268 in H. s...   \n",
       "Atf2 transfac_pro__M01186                  motif similar to cisbp__M0300 ('Atf2[gene ID: ...   \n",
       "\n",
       "                                                                                              \\\n",
       "                                                                                     Context   \n",
       "TF   MotifID                                                                                   \n",
       "Arnt dbcorrdb__MYC__ENCSR000FAZ_1__m1      (activating, weight>75.0%, mm9-500bp-upstream-...   \n",
       "     dbcorrdb__MYC__ENCSR000EZV_1__m1      (activating, weight>75.0%, mm9-500bp-upstream-...   \n",
       "Atf1 dbcorrdb__MAX__ENCSR000EUP_1__m1      (activating, weight>75.0%, mm9-500bp-upstream-...   \n",
       "     dbcorrdb__BHLHE40__ENCSR000EGV_1__m1  (activating, weight>75.0%, mm9-500bp-upstream-...   \n",
       "Atf2 transfac_pro__M01186                  (activating, weight>75.0%, mm9-500bp-upstream-...   \n",
       "\n",
       "                                                                                              \\\n",
       "                                                                                 TargetGenes   \n",
       "TF   MotifID                                                                                   \n",
       "Arnt dbcorrdb__MYC__ENCSR000FAZ_1__m1      [(Cdk4, 0.4051181677104111), (Rpusd4, 0.663259...   \n",
       "     dbcorrdb__MYC__ENCSR000EZV_1__m1      [(Cdk4, 0.4051181677104111), (Rpusd4, 0.663259...   \n",
       "Atf1 dbcorrdb__MAX__ENCSR000EUP_1__m1      [(Gla, 1.736301606130804), (Satb1, 0.453142896...   \n",
       "     dbcorrdb__BHLHE40__ENCSR000EGV_1__m1  [(Gla, 1.736301606130804), (Trappc8, 0.4531428...   \n",
       "Atf2 transfac_pro__M01186                  [(Ube2h, 1.5184979811830612), (Braf, 0.7705447...   \n",
       "\n",
       "                                                     \\\n",
       "                                          RankAtMax   \n",
       "TF   MotifID                                          \n",
       "Arnt dbcorrdb__MYC__ENCSR000FAZ_1__m1           495   \n",
       "     dbcorrdb__MYC__ENCSR000EZV_1__m1           564   \n",
       "Atf1 dbcorrdb__MAX__ENCSR000EUP_1__m1           805   \n",
       "     dbcorrdb__BHLHE40__ENCSR000EGV_1__m1       604   \n",
       "Atf2 transfac_pro__M01186                      1402   \n",
       "\n",
       "                                                                                              \n",
       "                                                                                    MotifURL  \n",
       "TF   MotifID                                                                                  \n",
       "Arnt dbcorrdb__MYC__ENCSR000FAZ_1__m1      http://motifcollections.aertslab.org/v9/logos/...  \n",
       "     dbcorrdb__MYC__ENCSR000EZV_1__m1      http://motifcollections.aertslab.org/v9/logos/...  \n",
       "Atf1 dbcorrdb__MAX__ENCSR000EUP_1__m1      http://motifcollections.aertslab.org/v9/logos/...  \n",
       "     dbcorrdb__BHLHE40__ENCSR000EGV_1__m1  http://motifcollections.aertslab.org/v9/logos/...  \n",
       "Atf2 transfac_pro__M01186                  http://motifcollections.aertslab.org/v9/logos/...  "
      ]
     },
     "execution_count": 27,
     "metadata": {},
     "output_type": "execute_result"
    }
   ],
   "source": [
    "motifEnr.head()"
   ]
  },
  {
   "cell_type": "code",
   "execution_count": null,
   "metadata": {},
   "outputs": [],
   "source": [
    "regulons = df2regulons(motifEnr)\n",
    "# Optional: rename regulons (same format as R-SCENIC)\n",
    "regulons = [r.rename(r.name.replace('(+)','('+str(len(r))+'g)')) for r in regulons]\n",
    "# Save\n",
    "with open(REGULONS_FNAME, 'wb') as f:\n",
    "    pickle.dump(regulons, f)"
   ]
  },
  {
   "cell_type": "code",
   "execution_count": 29,
   "metadata": {},
   "outputs": [],
   "source": [
    "# # Load:\n",
    "# with open(REGULONS_FNAME, 'rb') as f:\n",
    "#    regulons = pickle.load(f)"
   ]
  },
  {
   "cell_type": "code",
   "execution_count": null,
   "metadata": {},
   "outputs": [],
   "source": [
    "# Optional: export as gmt to import from R-SCENIC\n",
    "export_asGmt(modules, MODULES_FNAME)\n",
    "export_asGmt(regulons, REGULONS_FNAME)"
   ]
  },
  {
   "cell_type": "code",
   "execution_count": 41,
   "metadata": {},
   "outputs": [
    {
     "data": {
      "text/plain": [
       "550"
      ]
     },
     "execution_count": 41,
     "metadata": {},
     "output_type": "execute_result"
    },
    {
     "data": {
      "text/plain": [
       "Regulon(name='Alx4 (4g)', gene2weight=<frozendict {'Flna': 6.343813853503415, 'Zfhx3': 1.0, 'Mylk': 1.0, 'Pln': 25.170855937508573}>, transcription_factor='Alx4', context=frozenset({'', 'activating'}), score=1.38743412286113)"
      ]
     },
     "execution_count": 41,
     "metadata": {},
     "output_type": "execute_result"
    }
   ],
   "source": [
    "len(regulons)\n",
    "regulons[5]"
   ]
  },
  {
   "cell_type": "markdown",
   "metadata": {},
   "source": [
    "# Phase III: Cellular regulon enrichment matrix (aka AUCell)\n",
    "\n",
    "Characterize the different cells in a single-cell transcriptomics experiment by the enrichment of the regulons. \n",
    "Enrichment of a regulon is measured as AUC of the recovery curve of the genes that define this regulon."
   ]
  },
  {
   "cell_type": "markdown",
   "metadata": {},
   "source": [
    "> Note: The AUC for small regulons might not be reliable. \n",
    "In the R/initial implementation of SCENIC *regulons with fewer than 10 genes* are not included in the AUCell analysis."
   ]
  },
  {
   "cell_type": "code",
   "execution_count": 19,
   "metadata": {},
   "outputs": [],
   "source": [
    "auc_mtx = aucell(ex_matrix, regulons, num_workers=5)\n",
    "auc_mtx = auc_mtx.loc[ex_matrix.index]\n",
    "# Optional: Save (it is also saved in the .loom file)\n",
    "auc_mtx.to_csv(AUCMAT_FNAME) "
   ]
  },
  {
   "cell_type": "code",
   "execution_count": 20,
   "metadata": {},
   "outputs": [
    {
     "data": {
      "text/plain": [
       "(3005, 550)"
      ]
     },
     "execution_count": 20,
     "metadata": {},
     "output_type": "execute_result"
    },
    {
     "data": {
      "text/html": [
       "<div>\n",
       "<style scoped>\n",
       "    .dataframe tbody tr th:only-of-type {\n",
       "        vertical-align: middle;\n",
       "    }\n",
       "\n",
       "    .dataframe tbody tr th {\n",
       "        vertical-align: top;\n",
       "    }\n",
       "\n",
       "    .dataframe thead th {\n",
       "        text-align: right;\n",
       "    }\n",
       "</style>\n",
       "<table border=\"1\" class=\"dataframe\">\n",
       "  <thead>\n",
       "    <tr style=\"text-align: right;\">\n",
       "      <th></th>\n",
       "      <th>1772071015_C02</th>\n",
       "      <th>1772071017_G12</th>\n",
       "      <th>1772071017_A05</th>\n",
       "      <th>1772071014_B06</th>\n",
       "      <th>1772067065_H06</th>\n",
       "      <th>1772071017_E02</th>\n",
       "      <th>1772067065_B07</th>\n",
       "      <th>1772067060_B09</th>\n",
       "      <th>1772071014_E04</th>\n",
       "      <th>1772071015_D04</th>\n",
       "      <th>...</th>\n",
       "      <th>1772066110_D12</th>\n",
       "      <th>1772071017_A07</th>\n",
       "      <th>1772063071_G10</th>\n",
       "      <th>1772058148_C03</th>\n",
       "      <th>1772063061_D09</th>\n",
       "      <th>1772067059_B04</th>\n",
       "      <th>1772066097_D04</th>\n",
       "      <th>1772063068_D01</th>\n",
       "      <th>1772066098_A12</th>\n",
       "      <th>1772058148_F03</th>\n",
       "    </tr>\n",
       "    <tr>\n",
       "      <th>Regulon</th>\n",
       "      <th></th>\n",
       "      <th></th>\n",
       "      <th></th>\n",
       "      <th></th>\n",
       "      <th></th>\n",
       "      <th></th>\n",
       "      <th></th>\n",
       "      <th></th>\n",
       "      <th></th>\n",
       "      <th></th>\n",
       "      <th></th>\n",
       "      <th></th>\n",
       "      <th></th>\n",
       "      <th></th>\n",
       "      <th></th>\n",
       "      <th></th>\n",
       "      <th></th>\n",
       "      <th></th>\n",
       "      <th></th>\n",
       "      <th></th>\n",
       "      <th></th>\n",
       "    </tr>\n",
       "  </thead>\n",
       "  <tbody>\n",
       "    <tr>\n",
       "      <th>1810024B03Rik (52g)</th>\n",
       "      <td>0.000000</td>\n",
       "      <td>0.000000</td>\n",
       "      <td>0.000000</td>\n",
       "      <td>0.000000</td>\n",
       "      <td>0.000000</td>\n",
       "      <td>0.000000</td>\n",
       "      <td>0.000000</td>\n",
       "      <td>0.000000</td>\n",
       "      <td>0.000000</td>\n",
       "      <td>0.000000</td>\n",
       "      <td>...</td>\n",
       "      <td>0.000000</td>\n",
       "      <td>0.051548</td>\n",
       "      <td>0.000000</td>\n",
       "      <td>0.006676</td>\n",
       "      <td>0.003425</td>\n",
       "      <td>0.003132</td>\n",
       "      <td>0.003885</td>\n",
       "      <td>0.026160</td>\n",
       "      <td>0.001128</td>\n",
       "      <td>0.016556</td>\n",
       "    </tr>\n",
       "    <tr>\n",
       "      <th>Abl1 (13g)</th>\n",
       "      <td>0.000000</td>\n",
       "      <td>0.028030</td>\n",
       "      <td>0.009674</td>\n",
       "      <td>0.000000</td>\n",
       "      <td>0.052379</td>\n",
       "      <td>0.021235</td>\n",
       "      <td>0.000000</td>\n",
       "      <td>0.010004</td>\n",
       "      <td>0.000000</td>\n",
       "      <td>0.000000</td>\n",
       "      <td>...</td>\n",
       "      <td>0.000000</td>\n",
       "      <td>0.000000</td>\n",
       "      <td>0.000000</td>\n",
       "      <td>0.020082</td>\n",
       "      <td>0.000000</td>\n",
       "      <td>0.062396</td>\n",
       "      <td>0.068202</td>\n",
       "      <td>0.000000</td>\n",
       "      <td>0.191814</td>\n",
       "      <td>0.061817</td>\n",
       "    </tr>\n",
       "    <tr>\n",
       "      <th>Acaa1a (43g)</th>\n",
       "      <td>0.057737</td>\n",
       "      <td>0.044345</td>\n",
       "      <td>0.050155</td>\n",
       "      <td>0.055521</td>\n",
       "      <td>0.052855</td>\n",
       "      <td>0.028279</td>\n",
       "      <td>0.047929</td>\n",
       "      <td>0.052649</td>\n",
       "      <td>0.061278</td>\n",
       "      <td>0.078863</td>\n",
       "      <td>...</td>\n",
       "      <td>0.097341</td>\n",
       "      <td>0.023332</td>\n",
       "      <td>0.020132</td>\n",
       "      <td>0.051547</td>\n",
       "      <td>0.063542</td>\n",
       "      <td>0.105167</td>\n",
       "      <td>0.082872</td>\n",
       "      <td>0.085604</td>\n",
       "      <td>0.090946</td>\n",
       "      <td>0.093531</td>\n",
       "    </tr>\n",
       "    <tr>\n",
       "      <th>Acaa1b (60g)</th>\n",
       "      <td>0.212072</td>\n",
       "      <td>0.239603</td>\n",
       "      <td>0.190507</td>\n",
       "      <td>0.247006</td>\n",
       "      <td>0.209842</td>\n",
       "      <td>0.233850</td>\n",
       "      <td>0.213455</td>\n",
       "      <td>0.234563</td>\n",
       "      <td>0.215425</td>\n",
       "      <td>0.085053</td>\n",
       "      <td>...</td>\n",
       "      <td>0.003624</td>\n",
       "      <td>0.011186</td>\n",
       "      <td>0.234192</td>\n",
       "      <td>0.207215</td>\n",
       "      <td>0.006045</td>\n",
       "      <td>0.004547</td>\n",
       "      <td>0.008675</td>\n",
       "      <td>0.000000</td>\n",
       "      <td>0.000944</td>\n",
       "      <td>0.008195</td>\n",
       "    </tr>\n",
       "    <tr>\n",
       "      <th>Ahr (9g)</th>\n",
       "      <td>0.000000</td>\n",
       "      <td>0.000000</td>\n",
       "      <td>0.000000</td>\n",
       "      <td>0.000000</td>\n",
       "      <td>0.000000</td>\n",
       "      <td>0.000000</td>\n",
       "      <td>0.000000</td>\n",
       "      <td>0.000000</td>\n",
       "      <td>0.000000</td>\n",
       "      <td>0.000000</td>\n",
       "      <td>...</td>\n",
       "      <td>0.000000</td>\n",
       "      <td>0.000000</td>\n",
       "      <td>0.000000</td>\n",
       "      <td>0.000000</td>\n",
       "      <td>0.000000</td>\n",
       "      <td>0.000000</td>\n",
       "      <td>0.000000</td>\n",
       "      <td>0.000000</td>\n",
       "      <td>0.000000</td>\n",
       "      <td>0.000000</td>\n",
       "    </tr>\n",
       "  </tbody>\n",
       "</table>\n",
       "<p>5 rows × 3005 columns</p>\n",
       "</div>"
      ],
      "text/plain": [
       "                     1772071015_C02  1772071017_G12  1772071017_A05  \\\n",
       "Regulon                                                               \n",
       "1810024B03Rik (52g)        0.000000        0.000000        0.000000   \n",
       "Abl1 (13g)                 0.000000        0.028030        0.009674   \n",
       "Acaa1a (43g)               0.057737        0.044345        0.050155   \n",
       "Acaa1b (60g)               0.212072        0.239603        0.190507   \n",
       "Ahr (9g)                   0.000000        0.000000        0.000000   \n",
       "\n",
       "                     1772071014_B06  1772067065_H06  1772071017_E02  \\\n",
       "Regulon                                                               \n",
       "1810024B03Rik (52g)        0.000000        0.000000        0.000000   \n",
       "Abl1 (13g)                 0.000000        0.052379        0.021235   \n",
       "Acaa1a (43g)               0.055521        0.052855        0.028279   \n",
       "Acaa1b (60g)               0.247006        0.209842        0.233850   \n",
       "Ahr (9g)                   0.000000        0.000000        0.000000   \n",
       "\n",
       "                     1772067065_B07  1772067060_B09  1772071014_E04  \\\n",
       "Regulon                                                               \n",
       "1810024B03Rik (52g)        0.000000        0.000000        0.000000   \n",
       "Abl1 (13g)                 0.000000        0.010004        0.000000   \n",
       "Acaa1a (43g)               0.047929        0.052649        0.061278   \n",
       "Acaa1b (60g)               0.213455        0.234563        0.215425   \n",
       "Ahr (9g)                   0.000000        0.000000        0.000000   \n",
       "\n",
       "                     1772071015_D04       ...        1772066110_D12  \\\n",
       "Regulon                                   ...                         \n",
       "1810024B03Rik (52g)        0.000000       ...              0.000000   \n",
       "Abl1 (13g)                 0.000000       ...              0.000000   \n",
       "Acaa1a (43g)               0.078863       ...              0.097341   \n",
       "Acaa1b (60g)               0.085053       ...              0.003624   \n",
       "Ahr (9g)                   0.000000       ...              0.000000   \n",
       "\n",
       "                     1772071017_A07  1772063071_G10  1772058148_C03  \\\n",
       "Regulon                                                               \n",
       "1810024B03Rik (52g)        0.051548        0.000000        0.006676   \n",
       "Abl1 (13g)                 0.000000        0.000000        0.020082   \n",
       "Acaa1a (43g)               0.023332        0.020132        0.051547   \n",
       "Acaa1b (60g)               0.011186        0.234192        0.207215   \n",
       "Ahr (9g)                   0.000000        0.000000        0.000000   \n",
       "\n",
       "                     1772063061_D09  1772067059_B04  1772066097_D04  \\\n",
       "Regulon                                                               \n",
       "1810024B03Rik (52g)        0.003425        0.003132        0.003885   \n",
       "Abl1 (13g)                 0.000000        0.062396        0.068202   \n",
       "Acaa1a (43g)               0.063542        0.105167        0.082872   \n",
       "Acaa1b (60g)               0.006045        0.004547        0.008675   \n",
       "Ahr (9g)                   0.000000        0.000000        0.000000   \n",
       "\n",
       "                     1772063068_D01  1772066098_A12  1772058148_F03  \n",
       "Regulon                                                              \n",
       "1810024B03Rik (52g)        0.026160        0.001128        0.016556  \n",
       "Abl1 (13g)                 0.000000        0.191814        0.061817  \n",
       "Acaa1a (43g)               0.085604        0.090946        0.093531  \n",
       "Acaa1b (60g)               0.000000        0.000944        0.008195  \n",
       "Ahr (9g)                   0.000000        0.000000        0.000000  \n",
       "\n",
       "[5 rows x 3005 columns]"
      ]
     },
     "execution_count": 20,
     "metadata": {},
     "output_type": "execute_result"
    }
   ],
   "source": [
    "auc_mtx.shape\n",
    "auc_mtx.T.head()"
   ]
  },
  {
   "cell_type": "markdown",
   "metadata": {},
   "source": [
    "# Clean-up?"
   ]
  },
  {
   "cell_type": "code",
   "execution_count": null,
   "metadata": {},
   "outputs": [],
   "source": [
    "! rm -rf dask-worker-space"
   ]
  },
  {
   "cell_type": "code",
   "execution_count": 25,
   "metadata": {},
   "outputs": [
    {
     "ename": "NameError",
     "evalue": "name 'customClient' is not defined",
     "output_type": "error",
     "traceback": [
      "\u001b[0;31m---------------------------------------------------------------------------\u001b[0m",
      "\u001b[0;31mNameError\u001b[0m                                 Traceback (most recent call last)",
      "\u001b[0;32m<ipython-input-25-8fc71456edc5>\u001b[0m in \u001b[0;36m<module>\u001b[0;34m\u001b[0m\n\u001b[0;32m----> 1\u001b[0;31m \u001b[0mcustomClient\u001b[0m\u001b[0;34m.\u001b[0m\u001b[0mclose\u001b[0m\u001b[0;34m(\u001b[0m\u001b[0;34m)\u001b[0m\u001b[0;34m\u001b[0m\u001b[0m\n\u001b[0m\u001b[1;32m      2\u001b[0m \u001b[0;31m# localCluster.close()\u001b[0m\u001b[0;34m\u001b[0m\u001b[0;34m\u001b[0m\u001b[0m\n",
      "\u001b[0;31mNameError\u001b[0m: name 'customClient' is not defined"
     ]
    }
   ],
   "source": [
    "customClient.close()\n",
    "# localCluster.close()"
   ]
  },
  {
   "cell_type": "markdown",
   "metadata": {},
   "source": [
    "# Save results as loom\n",
    "\n",
    "The main results from this analysis can be saved into a .loom file:\n",
    "- Network (regulons)\n",
    "- Network activity in the cells (AUC matrix), including binarized regulon activity\n",
    "- 2D cell projections (tSNE/UMAP) based on the network activity (e.g. to identify cell types/states/groups based on similar network activity)\n",
    "- (The expression matrix is also included)\n",
    "\n",
    "The loom file can be visualized in http://scope.aertslab.org\n",
    "\n",
    "Not saved into the loom file: *motif enrichment* results and *co-expression modules*."
   ]
  },
  {
   "cell_type": "code",
   "execution_count": null,
   "metadata": {},
   "outputs": [],
   "source": [
    "export2loom(ex_mtx=ex_matrix,\n",
    "            regulons=regulons,\n",
    "            out_fname=LOOM_FNAME, \n",
    "            #cell_annotations=cell_annotations,\n",
    "            #cell_clusters=cell_clusters,\n",
    "            title=loom_title, \n",
    "            nomenclature=ORGANISM, \n",
    "            tree_structure=loom_tree_structure,\n",
    "            num_workers=48, \n",
    "            #embeddings=embeddings,\n",
    "            auc_mtx=auc_mtx, \n",
    "            auc_thresholds=None,\n",
    "            compress=True)"
   ]
  },
  {
   "cell_type": "markdown",
   "metadata": {},
   "source": [
    "# ~~ The end ~~\n",
    "\n",
    "You have now finished running pySCENIC.\n",
    "\n",
    "The following sections include some optional steps & visualization hints."
   ]
  },
  {
   "cell_type": "markdown",
   "metadata": {},
   "source": [
    "### To create the loom including OPTIONAL information:"
   ]
  },
  {
   "cell_type": "markdown",
   "metadata": {},
   "source": [
    "#### Cell annotation / clustering\n",
    "\n",
    "Optional. Previously known cell information or clusterings; for easier annotation/interpretation..."
   ]
  },
  {
   "cell_type": "code",
   "execution_count": 26,
   "metadata": {},
   "outputs": [
    {
     "data": {
      "text/html": [
       "<div>\n",
       "<style scoped>\n",
       "    .dataframe tbody tr th:only-of-type {\n",
       "        vertical-align: middle;\n",
       "    }\n",
       "\n",
       "    .dataframe tbody tr th {\n",
       "        vertical-align: top;\n",
       "    }\n",
       "\n",
       "    .dataframe thead th {\n",
       "        text-align: right;\n",
       "    }\n",
       "</style>\n",
       "<table border=\"1\" class=\"dataframe\">\n",
       "  <thead>\n",
       "    <tr style=\"text-align: right;\">\n",
       "      <th></th>\n",
       "      <th>level1class</th>\n",
       "    </tr>\n",
       "  </thead>\n",
       "  <tbody>\n",
       "    <tr>\n",
       "      <th>1772071015_C02</th>\n",
       "      <td>interneurons</td>\n",
       "    </tr>\n",
       "    <tr>\n",
       "      <th>1772071017_G12</th>\n",
       "      <td>interneurons</td>\n",
       "    </tr>\n",
       "    <tr>\n",
       "      <th>1772071017_A05</th>\n",
       "      <td>interneurons</td>\n",
       "    </tr>\n",
       "    <tr>\n",
       "      <th>1772071014_B06</th>\n",
       "      <td>interneurons</td>\n",
       "    </tr>\n",
       "    <tr>\n",
       "      <th>1772067065_H06</th>\n",
       "      <td>interneurons</td>\n",
       "    </tr>\n",
       "  </tbody>\n",
       "</table>\n",
       "</div>"
      ],
      "text/plain": [
       "                 level1class\n",
       "1772071015_C02  interneurons\n",
       "1772071017_G12  interneurons\n",
       "1772071017_A05  interneurons\n",
       "1772071014_B06  interneurons\n",
       "1772067065_H06  interneurons"
      ]
     },
     "execution_count": 26,
     "metadata": {},
     "output_type": "execute_result"
    }
   ],
   "source": [
    "# ! wget https://raw.githubusercontent.com/aertslab/pySCENIC/master/notebooks/data/GSE60361.annotations.csv\n",
    "cell_annotations_file=\"GSE60361.annotations.csv\"\n",
    "\n",
    "cell_annotations = pd.read_csv(cell_annotations_file, index_col=0)\n",
    "cell_annotations.head()"
   ]
  },
  {
   "cell_type": "code",
   "execution_count": 12,
   "metadata": {},
   "outputs": [],
   "source": [
    "# (Fake cell clustering)\n",
    "cell_clusters = pd.DataFrame(data=['cl_1']*300 + ['cl_2']*(ex_matrix.shape[0]-300),\n",
    "                           index=ex_matrix.index,\n",
    "                           columns=['FakeClustering'])\n",
    "cell_clusters['FakeClustering2']=['A']*100 + ['B']*(ex_matrix.shape[0]-131) + ['C']*31\n",
    "cell_clusters.head()"
   ]
  },
  {
   "cell_type": "markdown",
   "metadata": {},
   "source": [
    "#### Dimensionality reduction (2D projections of AUC)\n",
    "Optional. It is also calculated by the function `export2loom` with the default parameters"
   ]
  },
  {
   "cell_type": "code",
   "execution_count": 28,
   "metadata": {},
   "outputs": [],
   "source": [
    "import matplotlib.pyplot as plt\n",
    "\n",
    "# Edit plot options to fit your needs\n",
    "def plot_dr(dr, cellLabels=False, title='2D projection of AUC'):\n",
    "    if all(cellLabels)==False:\n",
    "        cellLabels=None\n",
    "    else:\n",
    "        cLabels=np.unique(cellLabels)\n",
    "        cLabels=dict(zip(cLabels,range(len(cLabels))))\n",
    "        cellLabels=[cLabels[x] for x in cellLabels]\n",
    "\n",
    "    plt.scatter(dr[:, 0], dr[:, 1], s=4, c=cellLabels, cmap='Spectral')\n",
    "    #plt.colorbar(boundaries=np.arange(11)-0.5).set_ticks(np.arange(10))\n",
    "    plt.gca().set_aspect('equal', 'datalim')\n",
    "    plt.title(title, fontsize=10)"
   ]
  },
  {
   "cell_type": "markdown",
   "metadata": {},
   "source": [
    "##### UMAP\n",
    "\n",
    "https://umap-learn.readthedocs.io/en/latest/basic_usage.html \n",
    "\n",
    "From help: \n",
    "\n",
    "- `n_neighbors` Larger values will result in more global structure being preserved at the loss of detailed local structure. In general this parameter should often be in the range **5 to 50**, with a choice of 10 to 15 being a sensible default.\n",
    "- `min_dist` This controls how tightly the embedding is allowed compress points together. Larger values ensure embedded points are more evenly distributed, while smaller values allow the algorithm to optimise more accurately with regard to local structure. Sensible values are in the range **0.001 to 0.5**, with 0.1 being a reasonable default.\n",
    "- `metric` This determines the choice of metric used to measure distance in the input space. A wide variety of metrics are already coded, and a user defined function can be passed as long as it has been JITd by numba."
   ]
  },
  {
   "cell_type": "code",
   "execution_count": 29,
   "metadata": {},
   "outputs": [],
   "source": [
    "import umap"
   ]
  },
  {
   "cell_type": "code",
   "execution_count": 30,
   "metadata": {},
   "outputs": [
    {
     "name": "stdout",
     "output_type": "stream",
     "text": [
      "CPU times: user 20.1 s, sys: 1.34 s, total: 21.4 s\n",
      "Wall time: 14.4 s\n"
     ]
    }
   ],
   "source": [
    "%%time\n",
    "#correlation, manhattan, chebyshev, canberra, braycurtis, seuclidean, cosine, rogerstanimoto, \n",
    "runUmap = umap.UMAP(n_neighbors=5, min_dist=0.5, metric='correlation').fit_transform\n",
    "dr_umap = runUmap(auc_mtx)\n",
    "dr_umap = pd.DataFrame(data=dr_umap, index=auc_mtx.index, columns=['UMAP_X', 'UMAP_Y'])\n",
    "dr_umap.to_csv(UMAP_FNAME, index=True, sep='\\t')"
   ]
  },
  {
   "cell_type": "code",
   "execution_count": 31,
   "metadata": {},
   "outputs": [
    {
     "data": {
      "image/png": "[encoded data removed]",
      "text/plain": [
       "<Figure size 432x288 with 1 Axes>"
      ]
     },
     "metadata": {
      "needs_background": "light"
     },
     "output_type": "display_data"
    }
   ],
   "source": [
    "plot_dr(dr_umap.values, title='UMAP on AUC', cellLabels=cell_annotations['level1class']) "
   ]
  },
  {
   "cell_type": "markdown",
   "metadata": {},
   "source": [
    "##### t-SNE"
   ]
  },
  {
   "cell_type": "code",
   "execution_count": 32,
   "metadata": {},
   "outputs": [],
   "source": [
    "from sklearn.manifold import TSNE"
   ]
  },
  {
   "cell_type": "code",
   "execution_count": 33,
   "metadata": {},
   "outputs": [
    {
     "name": "stdout",
     "output_type": "stream",
     "text": [
      "CPU times: user 37.7 s, sys: 523 ms, total: 38.2 s\n",
      "Wall time: 25.1 s\n"
     ]
    }
   ],
   "source": [
    "%%time\n",
    "dr_tsne = TSNE(n_components=2).fit_transform(auc_mtx)\n",
    "dr_tsne = pd.DataFrame(data=dr_tsne, index=auc_mtx.index, columns=['tSNE_X', 'tSNE_Y'])\n",
    "dr_tsne.to_csv(TSNE_FNAME, index=True, sep='\\t')"
   ]
  },
  {
   "cell_type": "code",
   "execution_count": 34,
   "metadata": {},
   "outputs": [
    {
     "data": {
      "image/png": "[encoded data removed]",
      "text/plain": [
       "<Figure size 432x288 with 1 Axes>"
      ]
     },
     "metadata": {
      "needs_background": "light"
     },
     "output_type": "display_data"
    }
   ],
   "source": [
    "plot_dr(dr_tsne.values, title='t-SNE on AUC', cellLabels=cell_annotations['level1class'])"
   ]
  },
  {
   "cell_type": "markdown",
   "metadata": {},
   "source": [
    "#### Save the loom file..."
   ]
  },
  {
   "cell_type": "code",
   "execution_count": 36,
   "metadata": {},
   "outputs": [],
   "source": [
    "# embeddings=dr_umap\n",
    "embeddings=pd.concat([dr_tsne, dr_umap], axis=1, join='outer')"
   ]
  },
  {
   "cell_type": "code",
   "execution_count": null,
   "metadata": {},
   "outputs": [],
   "source": [
    "export2loom(ex_mtx=ex_matrix,\n",
    "            regulons=regulons,\n",
    "            out_fname=LOOM_FNAME, \n",
    "            cell_annotations=cell_annotations,\n",
    "            cell_clusters=cell_clusters,\n",
    "            title=loom_title, \n",
    "            nomenclature=ORGANISM, \n",
    "            tree_structure=loom_tree_structure,\n",
    "            num_workers=48, \n",
    "            embeddings=embeddings,\n",
    "            auc_mtx=auc_mtx, \n",
    "            auc_thresholds=None,\n",
    "            compress=True)"
   ]
  },
  {
   "cell_type": "markdown",
   "metadata": {},
   "source": [
    "####  Reading a loom file\n",
    "To read the contents of the loom file see [loompy](http://linnarssonlab.org/loompy/):"
   ]
  },
  {
   "cell_type": "code",
   "execution_count": 11,
   "metadata": {},
   "outputs": [],
   "source": [
    "# loom=loompy.connect(LOOM_FNAME)\n",
    "# from pyscenic.export import decompress_meta\n",
    "# decompress_meta(loom.attrs[\"MetaData\"])['regulonThresholds'][:3]"
   ]
  },
  {
   "cell_type": "markdown",
   "metadata": {},
   "source": [
    "## Visualization and exploring AUCell results (e.g. regulon activity)"
   ]
  },
  {
   "cell_type": "markdown",
   "metadata": {},
   "source": [
    "#### Binarization of AUC\n",
    "(Default thresholds are also calculated by the function export2loom)"
   ]
  },
  {
   "cell_type": "code",
   "execution_count": 21,
   "metadata": {},
   "outputs": [
    {
     "data": {
      "text/html": [
       "<div>\n",
       "<style scoped>\n",
       "    .dataframe tbody tr th:only-of-type {\n",
       "        vertical-align: middle;\n",
       "    }\n",
       "\n",
       "    .dataframe tbody tr th {\n",
       "        vertical-align: top;\n",
       "    }\n",
       "\n",
       "    .dataframe thead th {\n",
       "        text-align: right;\n",
       "    }\n",
       "</style>\n",
       "<table border=\"1\" class=\"dataframe\">\n",
       "  <thead>\n",
       "    <tr style=\"text-align: right;\">\n",
       "      <th>Regulon</th>\n",
       "      <th>1810024B03Rik (52g)</th>\n",
       "      <th>Abl1 (13g)</th>\n",
       "      <th>Acaa1a (43g)</th>\n",
       "      <th>Acaa1b (60g)</th>\n",
       "      <th>Ahr (9g)</th>\n",
       "    </tr>\n",
       "  </thead>\n",
       "  <tbody>\n",
       "    <tr>\n",
       "      <th>1772071015_C02</th>\n",
       "      <td>0</td>\n",
       "      <td>0</td>\n",
       "      <td>0</td>\n",
       "      <td>1</td>\n",
       "      <td>0</td>\n",
       "    </tr>\n",
       "    <tr>\n",
       "      <th>1772071017_G12</th>\n",
       "      <td>0</td>\n",
       "      <td>1</td>\n",
       "      <td>0</td>\n",
       "      <td>1</td>\n",
       "      <td>0</td>\n",
       "    </tr>\n",
       "    <tr>\n",
       "      <th>1772071017_A05</th>\n",
       "      <td>0</td>\n",
       "      <td>1</td>\n",
       "      <td>0</td>\n",
       "      <td>1</td>\n",
       "      <td>0</td>\n",
       "    </tr>\n",
       "    <tr>\n",
       "      <th>1772071014_B06</th>\n",
       "      <td>0</td>\n",
       "      <td>0</td>\n",
       "      <td>0</td>\n",
       "      <td>1</td>\n",
       "      <td>0</td>\n",
       "    </tr>\n",
       "    <tr>\n",
       "      <th>1772067065_H06</th>\n",
       "      <td>0</td>\n",
       "      <td>1</td>\n",
       "      <td>0</td>\n",
       "      <td>1</td>\n",
       "      <td>0</td>\n",
       "    </tr>\n",
       "  </tbody>\n",
       "</table>\n",
       "</div>"
      ],
      "text/plain": [
       "Regulon         1810024B03Rik (52g)  Abl1 (13g)  Acaa1a (43g)  Acaa1b (60g)  \\\n",
       "1772071015_C02                    0           0             0             1   \n",
       "1772071017_G12                    0           1             0             1   \n",
       "1772071017_A05                    0           1             0             1   \n",
       "1772071014_B06                    0           0             0             1   \n",
       "1772067065_H06                    0           1             0             1   \n",
       "\n",
       "Regulon         Ahr (9g)  \n",
       "1772071015_C02         0  \n",
       "1772071017_G12         0  \n",
       "1772071017_A05         0  \n",
       "1772071014_B06         0  \n",
       "1772067065_H06         0  "
      ]
     },
     "execution_count": 21,
     "metadata": {},
     "output_type": "execute_result"
    },
    {
     "data": {
      "text/plain": [
       "Regulon\n",
       "1810024B03Rik (52g)     [0.004494794294892294]\n",
       "Abl1 (13g)             [0.0022078584566364435]\n",
       "Acaa1a (43g)              [0.1025057087359952]\n",
       "Acaa1b (60g)             [0.05016871738037472]\n",
       "Ahr (9g)                [0.002049002410065136]\n",
       "dtype: object"
      ]
     },
     "execution_count": 21,
     "metadata": {},
     "output_type": "execute_result"
    }
   ],
   "source": [
    "from pyscenic.binarization import binarize\n",
    "auc_binary, auc_thresholds = binarize(auc_mtx)\n",
    "auc_binary.iloc[:5,:5]\n",
    "auc_thresholds[:5]"
   ]
  },
  {
   "cell_type": "markdown",
   "metadata": {},
   "source": [
    "#### Visualization as heatmap"
   ]
  },
  {
   "cell_type": "code",
   "execution_count": 22,
   "metadata": {},
   "outputs": [
    {
     "data": {
      "text/plain": [
       "<seaborn.matrix.ClusterGrid at 0x2b99d5678ba8>"
      ]
     },
     "execution_count": 22,
     "metadata": {},
     "output_type": "execute_result"
    }
   ],
   "source": [
    "import seaborn as sns \n",
    "sns.clustermap(auc_binary.T, figsize=(10,10), cmap=sns.cm.rocket_r)"
   ]
  },
  {
   "cell_type": "markdown",
   "metadata": {},
   "source": [
    "#### Activity distribution within a regulon (histograms)"
   ]
  },
  {
   "cell_type": "code",
   "execution_count": 23,
   "metadata": {},
   "outputs": [],
   "source": [
    "import matplotlib.pyplot as plt\n",
    "def plot_AUC(auc_mtx: pd.DataFrame, regulon_name: str, threshold: float=None, bins: int=200, ax=None) -> None:\n",
    "    \"\"\"\n",
    "    Plot the AUC distribution for the given regulon.\n",
    "\n",
    "    :param auc_mtx: The dataframe with the AUC values for all cells and regulons (n_cells x n_regulons).\n",
    "    :param regulon_name: The name of the regulon.\n",
    "    :param bins: The number of bins to use in the AUC histogram.\n",
    "    :param threshold: The threshold to use for binarization.\n",
    "    \"\"\"\n",
    "    if ax is None:\n",
    "        ax=plt.gca()\n",
    "    auc_mtx[regulon_name].hist(bins=bins,ax=ax)\n",
    "\n",
    "    ylim = ax.get_ylim()\n",
    "    if not threshold is None:\n",
    "        ax.plot([threshold]*2, ylim, 'r:')\n",
    "    ax.set_ylim(ylim)\n",
    "    ax.set_xlabel('AUC')\n",
    "    ax.set_ylabel('#')\n",
    "    ax.set_title(regulon_name)"
   ]
  },
  {
   "cell_type": "code",
   "execution_count": 24,
   "metadata": {},
   "outputs": [
    {
     "data": {
      "image/png": "[encoded data removed]",
      "text/plain": [
       "<Figure size 432x288 with 1 Axes>"
      ]
     },
     "metadata": {
      "needs_background": "light"
     },
     "output_type": "display_data"
    }
   ],
   "source": [
    "plot_AUC(auc_mtx, \"Dlx1 (319g)\", threshold=0.05)"
   ]
  },
  {
   "cell_type": "markdown",
   "metadata": {},
   "source": [
    "#### Exploring the regulatory network (regulons and motif enrichment)"
   ]
  },
  {
   "cell_type": "markdown",
   "metadata": {},
   "source": [
    "Some examples for exploring the output: "
   ]
  },
  {
   "cell_type": "code",
   "execution_count": 61,
   "metadata": {},
   "outputs": [
    {
     "data": {
      "text/plain": [
       "{'1810024B03Rik (52g)': 52,\n",
       " 'Abl1 (13g)': 13,\n",
       " 'Acaa1a (43g)': 43,\n",
       " 'Acaa1b (60g)': 60,\n",
       " 'Ahr (9g)': 9}"
      ]
     },
     "execution_count": 61,
     "metadata": {},
     "output_type": "execute_result"
    },
    {
     "data": {
      "text/plain": [
       "{'1810024B03Rik (52g)': 0,\n",
       " 'Abl1 (13g)': 1,\n",
       " 'Acaa1a (43g)': 2,\n",
       " 'Acaa1b (60g)': 3,\n",
       " 'Ahr (9g)': 4}"
      ]
     },
     "execution_count": 61,
     "metadata": {},
     "output_type": "execute_result"
    },
    {
     "data": {
      "text/plain": [
       "['Elavl2', 'Btbd11', 'Dlx6os1', 'Cnr1', 'Vstm2a']"
      ]
     },
     "execution_count": 61,
     "metadata": {},
     "output_type": "execute_result"
    }
   ],
   "source": [
    "# Subsetting the regulons:\n",
    "from pyscenic.genesig import regulonSizes, regulonNames, regulonGenes\n",
    "regulonSizes(regulons[:5])\n",
    "regulonNames(regulons[:5])\n",
    "regulonGenes(regulons, 'Dlx1 (319g)')[:5]"
   ]
  },
  {
   "cell_type": "code",
   "execution_count": 15,
   "metadata": {},
   "outputs": [
    {
     "data": {
      "text/html": [
       "<div>\n",
       "<style scoped>\n",
       "    .dataframe tbody tr th:only-of-type {\n",
       "        vertical-align: middle;\n",
       "    }\n",
       "\n",
       "    .dataframe tbody tr th {\n",
       "        vertical-align: top;\n",
       "    }\n",
       "\n",
       "    .dataframe thead tr th {\n",
       "        text-align: left;\n",
       "    }\n",
       "\n",
       "    .dataframe thead tr:last-of-type th {\n",
       "        text-align: right;\n",
       "    }\n",
       "</style>\n",
       "<table border=\"1\" class=\"dataframe\">\n",
       "  <thead>\n",
       "    <tr>\n",
       "      <th></th>\n",
       "      <th colspan=\"9\" halign=\"left\">Enrichment</th>\n",
       "    </tr>\n",
       "    <tr>\n",
       "      <th></th>\n",
       "      <th>NES</th>\n",
       "      <th>AUC</th>\n",
       "      <th>MotifSimilarityQvalue</th>\n",
       "      <th>OrthologousIdentity</th>\n",
       "      <th>Annotation</th>\n",
       "      <th>Context</th>\n",
       "      <th>TargetGenes</th>\n",
       "      <th>RankAtMax</th>\n",
       "      <th>MotifURL</th>\n",
       "    </tr>\n",
       "    <tr>\n",
       "      <th>MotifID</th>\n",
       "      <th></th>\n",
       "      <th></th>\n",
       "      <th></th>\n",
       "      <th></th>\n",
       "      <th></th>\n",
       "      <th></th>\n",
       "      <th></th>\n",
       "      <th></th>\n",
       "      <th></th>\n",
       "    </tr>\n",
       "  </thead>\n",
       "  <tbody>\n",
       "    <tr>\n",
       "      <th>cisbp__M1604</th>\n",
       "      <td>3.283942</td>\n",
       "      <td>0.048426</td>\n",
       "      <td>0.000640</td>\n",
       "      <td>1.0</td>\n",
       "      <td>motif similar to hocomoco__SOX10_MOUSE.H11MO.1...</td>\n",
       "      <td>(activating, mm9-500bp-upstream-7species, weig...</td>\n",
       "      <td>[(Ermn, 1.1847846328388143), (Lrrn1, 2.8130722...</td>\n",
       "      <td>847</td>\n",
       "      <td>http://motifcollections.aertslab.org/v9/logos/...</td>\n",
       "    </tr>\n",
       "    <tr>\n",
       "      <th>taipale_cyt_meth__SOX4_GAACAAAGRN_eDBD_repr</th>\n",
       "      <td>3.052460</td>\n",
       "      <td>0.047111</td>\n",
       "      <td>0.000048</td>\n",
       "      <td>1.0</td>\n",
       "      <td>motif similar to hocomoco__SOX10_MOUSE.H11MO.1...</td>\n",
       "      <td>(activating, mm9-500bp-upstream-7species, weig...</td>\n",
       "      <td>[(Tmeff1, 1.1847846328388143), (Ing1, 2.813072...</td>\n",
       "      <td>547</td>\n",
       "      <td>http://motifcollections.aertslab.org/v9/logos/...</td>\n",
       "    </tr>\n",
       "    <tr>\n",
       "      <th>cisbp__M1597</th>\n",
       "      <td>3.135895</td>\n",
       "      <td>0.047585</td>\n",
       "      <td>0.000115</td>\n",
       "      <td>1.0</td>\n",
       "      <td>gene is annotated for similar motif cisbp__M15...</td>\n",
       "      <td>(activating, mm9-500bp-upstream-7species, weig...</td>\n",
       "      <td>[(Rims2, 1.1847846328388143), (Dmrta2, 2.81307...</td>\n",
       "      <td>1492</td>\n",
       "      <td>http://motifcollections.aertslab.org/v9/logos/...</td>\n",
       "    </tr>\n",
       "  </tbody>\n",
       "</table>\n",
       "</div>"
      ],
      "text/plain": [
       "                                            Enrichment            \\\n",
       "                                                   NES       AUC   \n",
       "MotifID                                                            \n",
       "cisbp__M1604                                  3.283942  0.048426   \n",
       "taipale_cyt_meth__SOX4_GAACAAAGRN_eDBD_repr   3.052460  0.047111   \n",
       "cisbp__M1597                                  3.135895  0.047585   \n",
       "\n",
       "                                                                   \\\n",
       "                                            MotifSimilarityQvalue   \n",
       "MotifID                                                             \n",
       "cisbp__M1604                                             0.000640   \n",
       "taipale_cyt_meth__SOX4_GAACAAAGRN_eDBD_repr              0.000048   \n",
       "cisbp__M1597                                             0.000115   \n",
       "\n",
       "                                                                 \\\n",
       "                                            OrthologousIdentity   \n",
       "MotifID                                                           \n",
       "cisbp__M1604                                                1.0   \n",
       "taipale_cyt_meth__SOX4_GAACAAAGRN_eDBD_repr                 1.0   \n",
       "cisbp__M1597                                                1.0   \n",
       "\n",
       "                                                                                                \\\n",
       "                                                                                    Annotation   \n",
       "MotifID                                                                                          \n",
       "cisbp__M1604                                 motif similar to hocomoco__SOX10_MOUSE.H11MO.1...   \n",
       "taipale_cyt_meth__SOX4_GAACAAAGRN_eDBD_repr  motif similar to hocomoco__SOX10_MOUSE.H11MO.1...   \n",
       "cisbp__M1597                                 gene is annotated for similar motif cisbp__M15...   \n",
       "\n",
       "                                                                                                \\\n",
       "                                                                                       Context   \n",
       "MotifID                                                                                          \n",
       "cisbp__M1604                                 (activating, mm9-500bp-upstream-7species, weig...   \n",
       "taipale_cyt_meth__SOX4_GAACAAAGRN_eDBD_repr  (activating, mm9-500bp-upstream-7species, weig...   \n",
       "cisbp__M1597                                 (activating, mm9-500bp-upstream-7species, weig...   \n",
       "\n",
       "                                                                                                \\\n",
       "                                                                                   TargetGenes   \n",
       "MotifID                                                                                          \n",
       "cisbp__M1604                                 [(Ermn, 1.1847846328388143), (Lrrn1, 2.8130722...   \n",
       "taipale_cyt_meth__SOX4_GAACAAAGRN_eDBD_repr  [(Tmeff1, 1.1847846328388143), (Ing1, 2.813072...   \n",
       "cisbp__M1597                                 [(Rims2, 1.1847846328388143), (Dmrta2, 2.81307...   \n",
       "\n",
       "                                                       \\\n",
       "                                            RankAtMax   \n",
       "MotifID                                                 \n",
       "cisbp__M1604                                      847   \n",
       "taipale_cyt_meth__SOX4_GAACAAAGRN_eDBD_repr       547   \n",
       "cisbp__M1597                                     1492   \n",
       "\n",
       "                                                                                                \n",
       "                                                                                      MotifURL  \n",
       "MotifID                                                                                         \n",
       "cisbp__M1604                                 http://motifcollections.aertslab.org/v9/logos/...  \n",
       "taipale_cyt_meth__SOX4_GAACAAAGRN_eDBD_repr  http://motifcollections.aertslab.org/v9/logos/...  \n",
       "cisbp__M1597                                 http://motifcollections.aertslab.org/v9/logos/...  "
      ]
     },
     "execution_count": 15,
     "metadata": {},
     "output_type": "execute_result"
    }
   ],
   "source": [
    "# Motifs supporting the regulons of a given TF:\n",
    "motifEnr.loc[('Sox10')][:3]"
   ]
  }
 ],
 "metadata": {
  "kernelspec": {
   "display_name": "Python 3",
   "language": "python",
   "name": "python3"
  },
  "language_info": {
   "codemirror_mode": {
    "name": "ipython",
    "version": 3
   },
   "file_extension": ".py",
   "mimetype": "text/x-python",
   "name": "python",
   "nbconvert_exporter": "python",
   "pygments_lexer": "ipython3",
   "version": "3.6.6"
  }
 },
 "nbformat": 4,
 "nbformat_minor": 2
}
